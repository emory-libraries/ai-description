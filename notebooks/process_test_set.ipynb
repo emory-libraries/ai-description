{
 "cells": [
  {
   "cell_type": "code",
   "execution_count": null,
   "id": "e43ebfce-7e09-467d-b980-4b288233644c",
   "metadata": {},
   "outputs": [],
   "source": [
    "import logging\n",
    "\n",
    "import pandas as pd\n",
    "\n",
    "from client_utils import (\n",
    "    get_session_token,\n",
    "    get_job_progress,\n",
    "    get_job_results,\n",
    "    submit_job,\n",
    "    create_metadata_job_objects,\n",
    "    batch_copy_files_from_dataframe,\n",
    ")\n",
    "\n",
    "logger = logging.getLogger()\n",
    "logger.setLevel(logging.INFO)\n",
    "\n",
    "api_url = \"https://75ckccpjyf.execute-api.us-east-1.amazonaws.com/dev/\"\n",
    "metadata_uri = \"s3://gaiic-emory-dev/metadata_test_set.csv\"\n",
    "bias_uri = \"s3://gaiic-emory-dev/bias_test_set.csv\"\n",
    "username = \"\"\n",
    "password = \"\"\n",
    "kwargs = {\"api_url\": api_url, \"username\": \"guest\", \"password\": \"password\"}\n",
    "metadata_df = pd.read_csv(metadata_uri)\n",
    "bias_df = pd.read_csv(bias_uri)"
   ]
  },
  {
   "cell_type": "code",
   "execution_count": null,
   "id": "aec38129-fd11-4c6d-b8d9-9d45dc5ea4a0",
   "metadata": {
    "collapsed": true,
    "jupyter": {
     "outputs_hidden": true
    },
    "scrolled": true
   },
   "outputs": [],
   "source": [
    "batch_copy_files_from_dataframe(metadata_df)\n",
    "batch_copy_files_from_dataframe(bias_df)"
   ]
  },
  {
   "cell_type": "code",
   "execution_count": null,
   "id": "61142bcd-20b1-4876-aa0d-0711ba29c36e",
   "metadata": {},
   "outputs": [],
   "source": [
    "metadata_job_objects = create_metadata_job_objects(metadata_df, \"ai-description-dev-nt01-008971633436-uploads\")"
   ]
  },
  {
   "cell_type": "code",
   "execution_count": null,
   "id": "575a029b-67c5-410b-b23c-68f0503e4f38",
   "metadata": {},
   "outputs": [],
   "source": [
    "session_token = get_session_token(**kwargs)\n",
    "submit_job(\n",
    "    api_url=api_url,\n",
    "    job_name=\"metadata_test_2\",\n",
    "    job_type=\"metadata\",\n",
    "    works=metadata_job_objects,\n",
    "    session_token=session_token,\n",
    ")"
   ]
  },
  {
   "cell_type": "code",
   "execution_count": null,
   "id": "c01d9b56-fc39-431b-b0d0-4c9256a6938f",
   "metadata": {},
   "outputs": [],
   "source": [
    "session_token = get_session_token(**kwargs)\n",
    "submit_job(\n",
    "    api_url=api_url,\n",
    "    job_name=\"kick_off_job\",\n",
    "    job_type=\"metadata\",\n",
    "    works=[],\n",
    "    session_token=session_token,\n",
    ")"
   ]
  }
 ],
 "metadata": {
  "kernelspec": {
   "display_name": "conda_python3",
   "language": "python",
   "name": "conda_python3"
  },
  "language_info": {
   "codemirror_mode": {
    "name": "ipython",
    "version": 3
   },
   "file_extension": ".py",
   "mimetype": "text/x-python",
   "name": "python",
   "nbconvert_exporter": "python",
   "pygments_lexer": "ipython3",
   "version": "3.10.16"
  }
 },
 "nbformat": 4,
 "nbformat_minor": 5
}
