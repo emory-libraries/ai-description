{
 "cells": [
  {
   "cell_type": "code",
   "execution_count": null,
   "id": "e43ebfce-7e09-467d-b980-4b288233644c",
   "metadata": {},
   "outputs": [],
   "source": [
    "import os\n",
    "\n",
    "from dotenv import load_dotenv\n",
    "\n",
    "from image_captioning_assistant.client.client_utils import submit_job\n",
    "from image_captioning_assistant.client.data_prep import translate_csv_to_job_objects\n",
    "\n",
    "load_dotenv()\n",
    "\n",
    "api_key = os.environ[\"API_KEY\"]\n",
    "api_url = os.environ[\"API_URL\"]\n",
    "uploads_bucket = os.environ[\"UPLOADS_BUCKET\"]"
   ]
  },
  {
   "cell_type": "markdown",
   "id": "bd6c58c3",
   "metadata": {},
   "source": [
    "## Create metadata job"
   ]
  },
  {
   "cell_type": "code",
   "execution_count": null,
   "id": "aec38129-fd11-4c6d-b8d9-9d45dc5ea4a0",
   "metadata": {
    "collapsed": true,
    "jupyter": {
     "outputs_hidden": true
    },
    "scrolled": true
   },
   "outputs": [],
   "source": [
    "metadata_uri = \"s3://gaiic-emory-dev/metadata_test_set.csv\"\n",
    "job_name = \"metadata_job_001\"\n",
    "metadata_objects = translate_csv_to_job_objects(\n",
    "    csv_path=metadata_uri, job_name=job_name, uploads_bucket=uploads_bucket, original_bucket=\"fedora-cor-binaries\"\n",
    ")\n",
    "submit_job(\n",
    "    api_url=api_url,\n",
    "    job_name=job_name,\n",
    "    job_type=\"metadata\",\n",
    "    works=metadata_objects,\n",
    "    api_key=api_key,\n",
    ")"
   ]
  },
  {
   "cell_type": "markdown",
   "id": "eb5f3dc6",
   "metadata": {},
   "source": [
    "## Create bias job"
   ]
  },
  {
   "cell_type": "code",
   "execution_count": null,
   "id": "575a029b-67c5-410b-b23c-68f0503e4f38",
   "metadata": {},
   "outputs": [],
   "source": [
    "bias_uri = \"s3://gaiic-emory-dev/bias_test_set.csv\"\n",
    "job_name = \"bias_job_001\"\n",
    "bias_objects = translate_csv_to_job_objects(\n",
    "    csv_path=bias_uri, job_name=job_name, uploads_bucket=uploads_bucket, original_bucket=\"fedora-cor-binaries\"\n",
    ")\n",
    "submit_job(\n",
    "    api_url=api_url,\n",
    "    job_name=job_name,\n",
    "    job_type=\"bias\",\n",
    "    works=bias_objects,\n",
    "    api_key=api_key,\n",
    ")"
   ]
  },
  {
   "cell_type": "markdown",
   "id": "7927046e",
   "metadata": {},
   "source": [
    "### Kick off ECS with no job"
   ]
  },
  {
   "cell_type": "code",
   "execution_count": null,
   "id": "c01d9b56-fc39-431b-b0d0-4c9256a6938f",
   "metadata": {},
   "outputs": [],
   "source": [
    "submit_job(\n",
    "    api_url=api_url,\n",
    "    job_name=\"kick_off_job\",\n",
    "    job_type=\"metadata\",\n",
    "    works=[],\n",
    "    api_key=api_key,\n",
    ")"
   ]
  }
 ],
 "metadata": {
  "kernelspec": {
   "display_name": "jupyter.venv",
   "language": "python",
   "name": "python3"
  },
  "language_info": {
   "codemirror_mode": {
    "name": "ipython",
    "version": 3
   },
   "file_extension": ".py",
   "mimetype": "text/x-python",
   "name": "python",
   "nbconvert_exporter": "python",
   "pygments_lexer": "ipython3",
   "version": "3.12.0"
  }
 },
 "nbformat": 4,
 "nbformat_minor": 5
}
