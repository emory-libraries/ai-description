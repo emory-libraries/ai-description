{
 "cells": [
  {
   "cell_type": "markdown",
   "metadata": {},
   "source": [
    "# API Gateway Demo"
   ]
  },
  {
   "cell_type": "markdown",
   "metadata": {},
   "source": [
    "## Create Job"
   ]
  },
  {
   "cell_type": "code",
   "execution_count": 1,
   "metadata": {},
   "outputs": [
    {
     "name": "stdout",
     "output_type": "stream",
     "text": [
      "API Response: {'message': 'Success'}\n"
     ]
    }
   ],
   "source": [
    "import json\n",
    "\n",
    "import requests\n",
    "\n",
    "base_url = \"https://rmysqpqqjg.execute-api.us-east-1.amazonaws.com/dev/\"\n",
    "endpoint = \"create_job\"\n",
    "api_url = f\"{base_url}{endpoint}\"\n",
    "\n",
    "request_body = {\n",
    "    \"job_name\": \"example_job\",\n",
    "    \"works\": [\n",
    "        {\n",
    "            \"work_id\": \"work1\",\n",
    "            \"s3_uris\": [\"s3://bucket/file1.txt\", \"s3://bucket/file2.txt\"]\n",
    "        },\n",
    "        {\n",
    "            \"work_id\": \"work2\",\n",
    "            \"s3_uris\": [\"s3://bucket/file3.txt\"]\n",
    "        }\n",
    "    ]\n",
    "}\n",
    "\n",
    "# Headers\n",
    "headers = {\"Content-Type\": \"application/json\"}\n",
    "\n",
    "try:\n",
    "    # Make the POST request\n",
    "    response = requests.post(api_url, data=json.dumps(request_body), headers=headers)\n",
    "    \n",
    "    # Check if the request was successful\n",
    "    if response.status_code == 200:\n",
    "        # Parse the JSON response\n",
    "        data = response.json()\n",
    "        print(\"API Response:\", data)\n",
    "    else:\n",
    "        print(f\"Error: API request failed with status code {response.status_code}\")\n",
    "        print(\"Response:\", response.text)\n",
    "\n",
    "except requests.exceptions.RequestException as e:\n",
    "    print(f\"An error occurred: {e}\")"
   ]
  },
  {
   "cell_type": "markdown",
   "metadata": {},
   "source": [
    "## Check Job Progress"
   ]
  },
  {
   "cell_type": "code",
   "execution_count": 29,
   "metadata": {},
   "outputs": [
    {
     "data": {
      "text/plain": [
       "{'IN_QUEUE': ['work1', 'work2']}"
      ]
     },
     "execution_count": 29,
     "metadata": {},
     "output_type": "execute_result"
    }
   ],
   "source": [
    "import logging\n",
    "\n",
    "import requests\n",
    "\n",
    "def get_job_progress(api_url, job_name):\n",
    "    \"\"\"\n",
    "    Query the job_progress endpoint with the given job_name.\n",
    "\n",
    "    Args:\n",
    "    api_url (str): The base URL of your API Gateway\n",
    "    job_name (str): The name of the job to query\n",
    "\n",
    "    Returns:\n",
    "    dict: The JSON response from the API, or None if an error occurred\n",
    "    \"\"\"\n",
    "    # Construct the full URL\n",
    "    endpoint = f\"{api_url}/job_progress\"\n",
    "    \n",
    "    # Set up the query parameters\n",
    "    params = {'job_name': job_name}\n",
    "    \n",
    "    try:\n",
    "        # Make the GET request\n",
    "        response = requests.get(endpoint, params=params)\n",
    "        \n",
    "        # Check the status code\n",
    "        if response.status_code == 200:\n",
    "            return response.json()\n",
    "        elif response.status_code == 404:\n",
    "            logging.info(f\"No data found for job_name: {job_name}\")\n",
    "            return response.json()\n",
    "        else:\n",
    "            response.raise_for_status()\n",
    "    \n",
    "    except requests.RequestException as e:\n",
    "        logging.exception(f\"An error occurred: {e}\")\n",
    "        return None\n",
    "\n",
    "get_job_progress(\n",
    "    api_url=\"https://rmysqpqqjg.execute-api.us-east-1.amazonaws.com/dev\",\n",
    "    job_name=\"example_job\",\n",
    ")"
   ]
  },
  {
   "cell_type": "code",
   "execution_count": null,
   "metadata": {},
   "outputs": [],
   "source": []
  },
  {
   "cell_type": "code",
   "execution_count": null,
   "metadata": {},
   "outputs": [],
   "source": []
  },
  {
   "cell_type": "code",
   "execution_count": null,
   "metadata": {},
   "outputs": [],
   "source": []
  },
  {
   "cell_type": "code",
   "execution_count": null,
   "metadata": {},
   "outputs": [],
   "source": []
  },
  {
   "cell_type": "code",
   "execution_count": null,
   "metadata": {},
   "outputs": [],
   "source": []
  }
 ],
 "metadata": {
  "kernelspec": {
   "display_name": "jupyter.venv",
   "language": "python",
   "name": "python3"
  },
  "language_info": {
   "codemirror_mode": {
    "name": "ipython",
    "version": 3
   },
   "file_extension": ".py",
   "mimetype": "text/x-python",
   "name": "python",
   "nbconvert_exporter": "python",
   "pygments_lexer": "ipython3",
   "version": "3.12.0"
  }
 },
 "nbformat": 4,
 "nbformat_minor": 2
}
