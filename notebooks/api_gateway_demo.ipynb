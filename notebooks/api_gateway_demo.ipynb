{
 "cells": [
  {
   "cell_type": "markdown",
   "metadata": {},
   "source": [
    "# API Gateway Demo"
   ]
  },
  {
   "cell_type": "markdown",
   "metadata": {},
   "source": [
    "## Create Job"
   ]
  },
  {
   "cell_type": "code",
   "execution_count": 1,
   "metadata": {},
   "outputs": [
    {
     "name": "stdout",
     "output_type": "stream",
     "text": [
      "API Response: {'message': 'Success'}\n"
     ]
    }
   ],
   "source": [
    "import json\n",
    "\n",
    "import requests\n",
    "\n",
    "def create_dummy_jobs(api_url: str, job_name: str, work_count: int):\n",
    "\n",
    "    # Construct the full URL\n",
    "    api_url = api_url.rstrip('/')\n",
    "    endpoint = f\"{api_url}/create_job\"\n",
    "\n",
    "    # Headers\n",
    "    headers = {\"Content-Type\": \"application/json\"}\n",
    "\n",
    "    works = [\n",
    "        {\n",
    "            \"work_id\": f\"work_{i}\",\n",
    "            \"s3_uris\": [\"s3://bucket/file1.txt\"]\n",
    "        }\n",
    "        for i in range(work_count)\n",
    "    ]    \n",
    "    request_body = {\"job_name\": job_name, \"works\": works}\n",
    "\n",
    "    try:\n",
    "        # Make the POST request\n",
    "        response = requests.post(endpoint, data=json.dumps(request_body), headers=headers)\n",
    "        \n",
    "        # Check if the request was successful\n",
    "        if response.status_code == 200:\n",
    "            # Parse the JSON response\n",
    "            data = response.json()\n",
    "            print(\"API Response:\", data)\n",
    "        else:\n",
    "            print(f\"Error: API request failed with status code {response.status_code}\")\n",
    "            print(\"Response:\", response.text)\n",
    "\n",
    "    except requests.exceptions.RequestException as e:\n",
    "        print(f\"An error occurred: {e}\")\n",
    "\n",
    "create_dummy_jobs(\n",
    "    api_url=\"https://1orpzlyvla.execute-api.us-east-1.amazonaws.com/dev/\",\n",
    "    job_name=\"job_001\",\n",
    "    work_count=10,\n",
    ")\n"
   ]
  },
  {
   "cell_type": "markdown",
   "metadata": {},
   "source": [
    "## Check Job Progress"
   ]
  },
  {
   "cell_type": "code",
   "execution_count": 4,
   "metadata": {},
   "outputs": [
    {
     "data": {
      "text/plain": [
       "{'IN_QUEUE': ['work_0',\n",
       "  'work_1',\n",
       "  'work_2',\n",
       "  'work_3',\n",
       "  'work_4',\n",
       "  'work_5',\n",
       "  'work_6',\n",
       "  'work_7',\n",
       "  'work_8',\n",
       "  'work_9']}"
      ]
     },
     "execution_count": 4,
     "metadata": {},
     "output_type": "execute_result"
    }
   ],
   "source": [
    "import logging\n",
    "\n",
    "import requests\n",
    "\n",
    "def get_job_progress(api_url: str, job_name: str):\n",
    "    \"\"\"\n",
    "    Query the job_progress endpoint with the given job_name.\n",
    "\n",
    "    Args:\n",
    "    api_url (str): The base URL of your API Gateway\n",
    "    job_name (str): The name of the job to query\n",
    "\n",
    "    Returns:\n",
    "    dict: The JSON response from the API, or None if an error occurred\n",
    "    \"\"\"\n",
    "    api_url = api_url.rstrip('/')\n",
    "    # Construct the full URL\n",
    "    endpoint = f\"{api_url}/job_progress\"\n",
    "    \n",
    "    # Set up the query parameters\n",
    "    params = {'job_name': job_name}\n",
    "    \n",
    "    try:\n",
    "        # Make the GET request\n",
    "        response = requests.get(endpoint, params=params)\n",
    "        \n",
    "        # Check the status code\n",
    "        if response.status_code == 200:\n",
    "            return response.json()\n",
    "        elif response.status_code == 404:\n",
    "            logging.info(f\"No data found for job_name: {job_name}\")\n",
    "            return response.json()\n",
    "        else:\n",
    "            response.raise_for_status()\n",
    "    \n",
    "    except requests.RequestException as e:\n",
    "        logging.exception(f\"An error occurred: {e}\")\n",
    "\n",
    "\n",
    "get_job_progress(\n",
    "    api_url=\"https://1orpzlyvla.execute-api.us-east-1.amazonaws.com/dev/\",\n",
    "    job_name=\"job_001\",\n",
    ")"
   ]
  },
  {
   "cell_type": "code",
   "execution_count": null,
   "metadata": {},
   "outputs": [],
   "source": []
  },
  {
   "cell_type": "code",
   "execution_count": null,
   "metadata": {},
   "outputs": [],
   "source": []
  },
  {
   "cell_type": "code",
   "execution_count": null,
   "metadata": {},
   "outputs": [],
   "source": []
  },
  {
   "cell_type": "code",
   "execution_count": null,
   "metadata": {},
   "outputs": [],
   "source": []
  },
  {
   "cell_type": "code",
   "execution_count": null,
   "metadata": {},
   "outputs": [],
   "source": []
  }
 ],
 "metadata": {
  "kernelspec": {
   "display_name": "jupyter.venv",
   "language": "python",
   "name": "python3"
  },
  "language_info": {
   "codemirror_mode": {
    "name": "ipython",
    "version": 3
   },
   "file_extension": ".py",
   "mimetype": "text/x-python",
   "name": "python",
   "nbconvert_exporter": "python",
   "pygments_lexer": "ipython3",
   "version": "3.12.0"
  }
 },
 "nbformat": 4,
 "nbformat_minor": 2
}
