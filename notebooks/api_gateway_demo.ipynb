{
 "cells": [
  {
   "cell_type": "code",
   "execution_count": 3,
   "metadata": {},
   "outputs": [
    {
     "name": "stdout",
     "output_type": "stream",
     "text": [
      "API Response: {'message': 'Success'}\n"
     ]
    }
   ],
   "source": [
    "import json\n",
    "\n",
    "import requests\n",
    "\n",
    "base_url = \"https://rmysqpqqjg.execute-api.us-east-1.amazonaws.com/dev/\"\n",
    "endpoint = \"create_job\"\n",
    "api_url = f\"{base_url}{endpoint}\"\n",
    "\n",
    "request_body = {\n",
    "    \"job_name\": \"example_job\",\n",
    "    \"works\": [\n",
    "        {\n",
    "            \"work_id\": \"work1\",\n",
    "            \"s3_uris\": [\"s3://bucket/file1.txt\", \"s3://bucket/file2.txt\"]\n",
    "        },\n",
    "        {\n",
    "            \"work_id\": \"work2\",\n",
    "            \"s3_uris\": [\"s3://bucket/file3.txt\"]\n",
    "        }\n",
    "    ]\n",
    "}\n",
    "\n",
    "# Headers\n",
    "headers = {\"Content-Type\": \"application/json\"}\n",
    "\n",
    "try:\n",
    "    # Make the POST request\n",
    "    response = requests.post(api_url, data=json.dumps(request_body), headers=headers)\n",
    "    \n",
    "    # Check if the request was successful\n",
    "    if response.status_code == 200:\n",
    "        # Parse the JSON response\n",
    "        data = response.json()\n",
    "        print(\"API Response:\", data)\n",
    "    else:\n",
    "        print(f\"Error: API request failed with status code {response.status_code}\")\n",
    "        print(\"Response:\", response.text)\n",
    "\n",
    "except requests.exceptions.RequestException as e:\n",
    "    print(f\"An error occurred: {e}\")"
   ]
  },
  {
   "cell_type": "code",
   "execution_count": null,
   "metadata": {},
   "outputs": [],
   "source": []
  },
  {
   "cell_type": "code",
   "execution_count": null,
   "metadata": {},
   "outputs": [],
   "source": []
  }
 ],
 "metadata": {
  "kernelspec": {
   "display_name": "jupyter.venv",
   "language": "python",
   "name": "python3"
  },
  "language_info": {
   "codemirror_mode": {
    "name": "ipython",
    "version": 3
   },
   "file_extension": ".py",
   "mimetype": "text/x-python",
   "name": "python",
   "nbconvert_exporter": "python",
   "pygments_lexer": "ipython3",
   "version": "3.12.0"
  }
 },
 "nbformat": 4,
 "nbformat_minor": 2
}
