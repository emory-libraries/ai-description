{
 "cells": [
  {
   "cell_type": "markdown",
   "metadata": {},
   "source": [
    "# API Gateway Demo"
   ]
  },
  {
   "cell_type": "code",
   "execution_count": null,
   "metadata": {},
   "outputs": [],
   "source": [
    "import os\n",
    "from dotenv import load_dotenv\n",
    "\n",
    "from data_prep import (\n",
    "    populate_bucket,\n",
    "    create_dummy_job_objects,\n",
    ")\n",
    "from client_utils import (\n",
    "    get_job_progress,\n",
    "    get_job_results,\n",
    "    get_overall_progress,\n",
    "    update_job_results,\n",
    "    submit_job,\n",
    ")\n",
    "\n",
    "load_dotenv()\n",
    "api_key = os.environ[\"API_KEY\"]\n",
    "api_url = \"https://yrzic1qgg2.execute-api.us-east-1.amazonaws.com/dev/api\""
   ]
  },
  {
   "cell_type": "markdown",
   "metadata": {},
   "source": [
    "## Populate bucket"
   ]
  },
  {
   "cell_type": "code",
   "execution_count": null,
   "metadata": {},
   "outputs": [],
   "source": [
    "uploads_bucket_name = \"ai-description-dev-nt-isngd-2-381491992967-uploads\"\n",
    "image_s3_uri, original_metadata_s3_uri, context_s3_uri = populate_bucket(\n",
    "    bucket_name=uploads_bucket_name,\n",
    "    image_fpath=\"../tests/data/offensive_image.jpg\",\n",
    ")"
   ]
  },
  {
   "cell_type": "markdown",
   "metadata": {},
   "source": [
    "## Create bias job"
   ]
  },
  {
   "cell_type": "code",
   "execution_count": null,
   "metadata": {},
   "outputs": [],
   "source": [
    "job_name = \"job_001\"\n",
    "bias_job_name = f\"{job_name}_bias\"\n",
    "metadata_job_name = f\"{job_name}_metadata\"\n",
    "\n",
    "bias_job_objects = create_dummy_job_objects(\n",
    "    job_name=bias_job_name,\n",
    "    original_metadata_s3_uri=original_metadata_s3_uri,\n",
    "    context_s3_uri=context_s3_uri,\n",
    "    image_s3_uri=image_s3_uri,\n",
    ")\n",
    "submit_job(\n",
    "    api_url=api_url,\n",
    "    job_name=job_name,\n",
    "    job_type=\"bias\",\n",
    "    works=bias_job_objects,\n",
    "    api_key=api_key,\n",
    ")"
   ]
  },
  {
   "cell_type": "markdown",
   "metadata": {},
   "source": [
    "## Create metadata job"
   ]
  },
  {
   "cell_type": "code",
   "execution_count": null,
   "metadata": {},
   "outputs": [],
   "source": [
    "metadata_job_objects = create_dummy_job_objects(\n",
    "    job_name=metadata_job_name,\n",
    "    original_metadata_s3_uri=original_metadata_s3_uri,\n",
    "    context_s3_uri=context_s3_uri,\n",
    "    image_s3_uri=image_s3_uri,\n",
    ")\n",
    "submit_job(\n",
    "    api_url=api_url,\n",
    "    job_name=job_name,\n",
    "    job_type=\"metadata\",\n",
    "    works=bias_job_objects,\n",
    "    api_key=api_key,\n",
    ")"
   ]
  },
  {
   "cell_type": "markdown",
   "metadata": {},
   "source": [
    "## Check Bias Job Progress"
   ]
  },
  {
   "cell_type": "code",
   "execution_count": null,
   "metadata": {},
   "outputs": [],
   "source": [
    "bias_progress = get_job_progress(\n",
    "    api_url=api_url,\n",
    "    job_name=bias_job_name,\n",
    "    session_token=get_session_token(**session_token_kwargs),\n",
    ")\n",
    "for key, val in bias_progress.items():\n",
    "    print(f\"{key}: {val}\")"
   ]
  },
  {
   "cell_type": "markdown",
   "metadata": {},
   "source": [
    "## Check metadata job progress"
   ]
  },
  {
   "cell_type": "code",
   "execution_count": null,
   "metadata": {},
   "outputs": [],
   "source": [
    "metadata_progress = get_job_progress(\n",
    "    api_url=api_url,\n",
    "    job_name=metadata_job_name,\n",
    "    api_key=api_key,\n",
    ")\n",
    "for key, val in metadata_progress.items():\n",
    "    print(f\"{key}: {val}\")"
   ]
  },
  {
   "cell_type": "markdown",
   "metadata": {},
   "source": [
    "## Get overall progress"
   ]
  },
  {
   "cell_type": "code",
   "execution_count": null,
   "metadata": {},
   "outputs": [],
   "source": [
    "overall_progress = get_overall_progress(\n",
    "    api_url=api_url, api_key=api_key\n",
    ")\n",
    "for key, val in overall_progress.items():\n",
    "    print(f\"{key}: {val}\")"
   ]
  },
  {
   "cell_type": "markdown",
   "metadata": {},
   "source": [
    "## Get Bias Job Results"
   ]
  },
  {
   "cell_type": "code",
   "execution_count": null,
   "metadata": {},
   "outputs": [],
   "source": [
    "item = get_job_results(\n",
    "    api_url=api_url,\n",
    "    job_name=bias_job_name,\n",
    "    work_id=bias_progress[\"job_progress\"][\"READY FOR REVIEW\"][0],\n",
    "    api_key=api_key,\n",
    ")\n",
    "for key, val in item.items():\n",
    "    print(f\"{key}: {val}\")\n",
    "    print()\n",
    "\n",
    "item = get_job_results(\n",
    "    api_url=api_url,\n",
    "    job_name=bias_job_name,\n",
    "    work_id=bias_progress[\"job_progress\"][\"READY FOR REVIEW\"][1],\n",
    "    api_key=api_key,\n",
    ")\n",
    "for key, val in item.items():\n",
    "    print(f\"{key}: {val}\")\n",
    "    print()"
   ]
  },
  {
   "cell_type": "markdown",
   "metadata": {},
   "source": [
    "## Get metadata job results"
   ]
  },
  {
   "cell_type": "code",
   "execution_count": null,
   "metadata": {},
   "outputs": [],
   "source": [
    "item = get_job_results(\n",
    "    api_url=api_url,\n",
    "    job_name=metadata_job_name,\n",
    "    work_id=metadata_progress[\"job_progress\"][\"READY FOR REVIEW\"][0],\n",
    "    api_key=api_key,\n",
    ")\n",
    "for key, val in item.items():\n",
    "    print(f\"{key}: {val}\")\n",
    "    print()"
   ]
  },
  {
   "cell_type": "markdown",
   "metadata": {},
   "source": [
    "## Update Job Results"
   ]
  },
  {
   "cell_type": "code",
   "execution_count": null,
   "metadata": {},
   "outputs": [],
   "source": [
    "update_job_results(\n",
    "    api_url=api_url,\n",
    "    job_name=job_name,\n",
    "    work_id=bias_progress[\"READY_FOR_REVIEW\"][0],\n",
    "    api_key=api_key,\n",
    ")"
   ]
  }
 ],
 "metadata": {
  "kernelspec": {
   "display_name": "jupyter.venv",
   "language": "python",
   "name": "python3"
  },
  "language_info": {
   "codemirror_mode": {
    "name": "ipython",
    "version": 3
   },
   "file_extension": ".py",
   "mimetype": "text/x-python",
   "name": "python",
   "nbconvert_exporter": "python",
   "pygments_lexer": "ipython3",
   "version": "3.12.0"
  }
 },
 "nbformat": 4,
 "nbformat_minor": 2
}
