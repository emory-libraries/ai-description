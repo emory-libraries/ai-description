{
 "cells": [
  {
   "cell_type": "markdown",
   "metadata": {},
   "source": [
    "# API Gateway Demo"
   ]
  },
  {
   "cell_type": "code",
   "execution_count": null,
   "metadata": {},
   "outputs": [],
   "source": [
    "from client_utils import (\n",
    "    populate_bucket,\n",
    "    get_job_progress,\n",
    "    get_job_results,\n",
    "    update_job_results,\n",
    "    create_dummy_job,\n",
    ")\n",
    "\n",
    "uploads_bucket_name = \"ai-description-dev-nt-isngd-381491992967-uploads\"\n",
    "api_url = \"https://3jkdst30r0.execute-api.us-east-1.amazonaws.com/dev/\"\n",
    "job_name = \"job_001\"\n",
    "bias_job_name = f\"{job_name}_bias\"\n",
    "metadata_job_name = f\"{job_name}_metadata\""
   ]
  },
  {
   "cell_type": "markdown",
   "metadata": {},
   "source": [
    "## Populate bucket"
   ]
  },
  {
   "cell_type": "code",
   "execution_count": null,
   "metadata": {},
   "outputs": [],
   "source": [
    "image_s3_uri, original_metadata_s3_uri, context_s3_uri = populate_bucket(\n",
    "    bucket_name=uploads_bucket_name,\n",
    "    image_fpath=\"../tests/data/offensive_image.jpg\",\n",
    ")"
   ]
  },
  {
   "cell_type": "markdown",
   "metadata": {},
   "source": [
    "## Create Jobs"
   ]
  },
  {
   "cell_type": "code",
   "execution_count": null,
   "metadata": {},
   "outputs": [],
   "source": [
    "create_dummy_job(\n",
    "    api_url=api_url,\n",
    "    job_name=bias_job_name,\n",
    "    job_type=\"bias\",\n",
    "    original_metadata_s3_uri=original_metadata_s3_uri,\n",
    "    context_s3_uri=context_s3_uri,\n",
    "    image_s3_uri=image_s3_uri,\n",
    ")\n",
    "\n",
    "create_dummy_job(\n",
    "    api_url=api_url,\n",
    "    job_name=metadata_job_name,\n",
    "    job_type=\"metadata\",\n",
    "    original_metadata_s3_uri=original_metadata_s3_uri,\n",
    "    context_s3_uri=context_s3_uri,\n",
    "    image_s3_uri=image_s3_uri,\n",
    ")"
   ]
  },
  {
   "cell_type": "markdown",
   "metadata": {},
   "source": [
    "## Check Job Progress"
   ]
  },
  {
   "cell_type": "code",
   "execution_count": null,
   "metadata": {},
   "outputs": [],
   "source": [
    "bias_progress = get_job_progress(\n",
    "    api_url=api_url,\n",
    "    job_name=bias_job_name,\n",
    ")\n",
    "for key, val in bias_progress.items():\n",
    "    print(f\"{key}: {val}\")\n",
    "\n",
    "metadata_progress = get_job_progress(\n",
    "    api_url=api_url,\n",
    "    job_name=metadata_job_name,\n",
    ")\n",
    "for key, val in metadata_progress.items():\n",
    "    print(f\"{key}: {val}\")"
   ]
  },
  {
   "cell_type": "markdown",
   "metadata": {},
   "source": [
    "## Get Job Results"
   ]
  },
  {
   "cell_type": "code",
   "execution_count": null,
   "metadata": {},
   "outputs": [],
   "source": [
    "item = get_job_results(api_url=api_url, job_name=bias_job_name, work_id=bias_progress[\"job_progress\"][\"READY FOR REVIEW\"][0])\n",
    "for key, val in item.items():\n",
    "    print(f\"{key}: {val}\")\n",
    "\n",
    "item = get_job_results(api_url=api_url, job_name=bias_job_name, work_id=bias_progress[\"job_progress\"][\"READY FOR REVIEW\"][1])\n",
    "for key, val in item.items():\n",
    "    print(f\"{key}: {val}\")\n",
    "\n",
    "item = get_job_results(api_url=api_url, job_name=metadata_job_name, work_id=metadata_progress[\"job_progress\"][\"READY FOR REVIEW\"][0])\n",
    "for key, val in item.items():\n",
    "    print(f\"{key}: {val}\")\n",
    "    print()\n",
    "\n",
    "item = get_job_results(api_url=api_url, job_name=metadata_job_name, work_id=metadata_progress[\"job_progress\"][\"READY FOR REVIEW\"][1])\n",
    "for key, val in item.items():\n",
    "    print(f\"{key}: {val}\")"
   ]
  },
  {
   "cell_type": "markdown",
   "metadata": {},
   "source": [
    "## Update Job Results"
   ]
  },
  {
   "cell_type": "code",
   "execution_count": null,
   "metadata": {},
   "outputs": [],
   "source": [
    "update_job_results(\n",
    "    api_url=api_url,\n",
    "    job_name=job_name,\n",
    "    work_id=bias_progress[\"READY_FOR_REVIEW\"][0],\n",
    ")"
   ]
  }
 ],
 "metadata": {
  "kernelspec": {
   "display_name": "jupyter.venv",
   "language": "python",
   "name": "python3"
  },
  "language_info": {
   "codemirror_mode": {
    "name": "ipython",
    "version": 3
   },
   "file_extension": ".py",
   "mimetype": "text/x-python",
   "name": "python",
   "nbconvert_exporter": "python",
   "pygments_lexer": "ipython3",
   "version": "3.12.0"
  }
 },
 "nbformat": 4,
 "nbformat_minor": 2
}
