{
 "cells": [
  {
   "cell_type": "markdown",
   "metadata": {},
   "source": [
    "# API Gateway Demo"
   ]
  },
  {
   "cell_type": "code",
   "execution_count": 2,
   "metadata": {},
   "outputs": [],
   "source": [
    "api_url = \"https://h31b7qwhgi.execute-api.us-east-1.amazonaws.com/dev/\"\n",
    "job_name = \"job_001\""
   ]
  },
  {
   "cell_type": "markdown",
   "metadata": {},
   "source": [
    "## Create Job"
   ]
  },
  {
   "cell_type": "code",
   "execution_count": 4,
   "metadata": {},
   "outputs": [
    {
     "name": "stdout",
     "output_type": "stream",
     "text": [
      "API Response: {'message': 'Success'}\n"
     ]
    }
   ],
   "source": [
    "import json\n",
    "\n",
    "import requests\n",
    "\n",
    "\n",
    "def create_dummy_jobs(api_url: str, job_name: str, work_count: int):\n",
    "\n",
    "    # Construct the full URL\n",
    "    api_url = api_url.rstrip(\"/\")\n",
    "    endpoint = f\"{api_url}/create_job\"\n",
    "\n",
    "    # Headers\n",
    "    headers = {\"Content-Type\": \"application/json\"}\n",
    "\n",
    "    works = [{\"work_id\": f\"{job_name}_work_{i}\", \"s3_uris\": [\"s3://bucket/file1.txt\"]} for i in range(work_count)]\n",
    "    request_body = {\"job_name\": job_name, \"works\": works}\n",
    "\n",
    "    try:\n",
    "        # Make the POST request\n",
    "        response = requests.post(endpoint, data=json.dumps(request_body), headers=headers)\n",
    "\n",
    "        # Check if the request was successful\n",
    "        if response.status_code == 200:\n",
    "            # Parse the JSON response\n",
    "            data = response.json()\n",
    "            print(\"API Response:\", data)\n",
    "        else:\n",
    "            print(f\"Error: API request failed with status code {response.status_code}\")\n",
    "            print(\"Response:\", response.text)\n",
    "\n",
    "    except requests.exceptions.RequestException as e:\n",
    "        print(f\"An error occurred: {e}\")\n",
    "\n",
    "\n",
    "create_dummy_jobs(\n",
    "    api_url=api_url,\n",
    "    job_name=job_name,\n",
    "    work_count=20,\n",
    ")"
   ]
  },
  {
   "cell_type": "markdown",
   "metadata": {},
   "source": [
    "## Check Job Progress"
   ]
  },
  {
   "cell_type": "code",
   "execution_count": 5,
   "metadata": {},
   "outputs": [
    {
     "name": "stdout",
     "output_type": "stream",
     "text": [
      "dict_keys(['IN_QUEUE'])\n",
      "{'IN_QUEUE': ['job_004_work_0', 'job_004_work_1', 'job_004_work_10', 'job_004_work_11', 'job_004_work_12', 'job_004_work_13', 'job_004_work_14', 'job_004_work_15', 'job_004_work_16', 'job_004_work_17', 'job_004_work_18', 'job_004_work_19', 'job_004_work_2', 'job_004_work_3', 'job_004_work_4', 'job_004_work_5', 'job_004_work_6', 'job_004_work_7', 'job_004_work_8', 'job_004_work_9']}\n"
     ]
    }
   ],
   "source": [
    "import logging\n",
    "\n",
    "import requests\n",
    "\n",
    "\n",
    "def get_job_progress(api_url: str, job_name: str):\n",
    "    \"\"\"\n",
    "    Query the job_progress endpoint with the given job_name.\n",
    "\n",
    "    Args:\n",
    "    api_url (str): The base URL of your API Gateway\n",
    "    job_name (str): The name of the job to query\n",
    "\n",
    "    Returns:\n",
    "    dict: The JSON response from the API, or None if an error occurred\n",
    "    \"\"\"\n",
    "    api_url = api_url.rstrip(\"/\")\n",
    "    # Construct the full URL\n",
    "    endpoint = f\"{api_url}/job_progress\"\n",
    "\n",
    "    # Set up the query parameters\n",
    "    params = {\"job_name\": job_name}\n",
    "\n",
    "    try:\n",
    "        # Make the GET request\n",
    "        response = requests.get(endpoint, params=params)\n",
    "\n",
    "        # Check the status code\n",
    "        if response.status_code == 200:\n",
    "            return response.json()\n",
    "        elif response.status_code == 404:\n",
    "            logging.info(f\"No data found for job_name: {job_name}\")\n",
    "            return response.json()\n",
    "        else:\n",
    "            response.raise_for_status()\n",
    "\n",
    "    except requests.RequestException as e:\n",
    "        logging.exception(f\"An error occurred: {e}\")\n",
    "\n",
    "\n",
    "progress = get_job_progress(\n",
    "    api_url=api_url,\n",
    "    job_name=job_name,\n",
    ")\n",
    "print(progress.keys())\n",
    "print(progress)"
   ]
  },
  {
   "cell_type": "markdown",
   "metadata": {},
   "source": [
    "## Get Job Results"
   ]
  },
  {
   "cell_type": "code",
   "execution_count": 7,
   "metadata": {},
   "outputs": [
    {
     "name": "stdout",
     "output_type": "stream",
     "text": [
      "{'error': 'Results not available'}\n"
     ]
    }
   ],
   "source": [
    "import logging\n",
    "\n",
    "import requests\n",
    "\n",
    "\n",
    "def get_job_results(api_url: str, job_name: str, work_id: str):\n",
    "    \"\"\"\n",
    "    Query the results endpoint with the given job_name and work_id.\n",
    "\n",
    "    Args:\n",
    "    api_url (str): The base URL of your API Gateway.\n",
    "    job_name (str): The name of the job to query.\n",
    "    work_id (str): The ID of the work within the job.\n",
    "\n",
    "    Returns:\n",
    "    dict: The JSON response from the API, or None if an error occurred\n",
    "    \"\"\"\n",
    "    api_url = api_url.rstrip(\"/\")\n",
    "    # Construct the full URL\n",
    "    endpoint = f\"{api_url}/results\"\n",
    "\n",
    "    # Set up the query parameters\n",
    "    params = {\"job_name\": job_name, \"work_id\": work_id}\n",
    "\n",
    "    try:\n",
    "        # Make the GET request\n",
    "        response = requests.get(endpoint, params=params)\n",
    "\n",
    "        # Check the status code\n",
    "        if response.status_code == 200:\n",
    "            return response.json()\n",
    "        elif response.status_code == 404:\n",
    "            logging.info(f\"No data found for job_name={job_name} and work_id={work_id}\")\n",
    "            return response.json()\n",
    "        else:\n",
    "            response.raise_for_status()\n",
    "\n",
    "    except requests.RequestException as e:\n",
    "        logging.exception(f\"An error occurred: {e}\")\n",
    "\n",
    "\n",
    "results = get_job_results(api_url=api_url, job_name=job_name, work_id=\"job_001_work_0\")\n",
    "print(results)"
   ]
  },
  {
   "cell_type": "markdown",
   "metadata": {},
   "source": [
    "## Update Job Results"
   ]
  },
  {
   "cell_type": "code",
   "execution_count": null,
   "metadata": {},
   "outputs": [],
   "source": [
    "import json\n",
    "\n",
    "import requests\n",
    "\n",
    "\n",
    "def update_job_results(api_url: str, job_name: str, work_id: str):\n",
    "\n",
    "    # Construct the full URL\n",
    "    api_url = api_url.rstrip(\"/\")\n",
    "    endpoint = f\"{api_url}/results\"\n",
    "\n",
    "    # Headers\n",
    "    headers = {\"Content-Type\": \"application/json\"}\n",
    "\n",
    "    updated_fields = {\"work_status\": \"REVIEWED\"}\n",
    "    request_body = {\"job_name\": job_name, \"work_id\": work_id, \"updated_fields\": updated_fields}\n",
    "\n",
    "    try:\n",
    "        # Make the POST request\n",
    "        response = requests.post(endpoint, data=json.dumps(request_body), headers=headers)\n",
    "\n",
    "        # Check if the request was successful\n",
    "        if response.status_code == 200:\n",
    "            # Parse the JSON response\n",
    "            data = response.json()\n",
    "            print(\"API Response:\", data)\n",
    "        else:\n",
    "            print(f\"Error: API request failed with status code {response.status_code}\")\n",
    "            print(\"Response:\", response.text)\n",
    "\n",
    "    except requests.exceptions.RequestException as e:\n",
    "        print(f\"An error occurred: {e}\")\n",
    "\n",
    "\n",
    "update_job_results(\n",
    "    api_url=api_url,\n",
    "    job_name=job_name,\n",
    "    work_id=\"job_001_work_0\",\n",
    ")"
   ]
  }
 ],
 "metadata": {
  "kernelspec": {
   "display_name": "jupyter.venv",
   "language": "python",
   "name": "python3"
  },
  "language_info": {
   "codemirror_mode": {
    "name": "ipython",
    "version": 3
   },
   "file_extension": ".py",
   "mimetype": "text/x-python",
   "name": "python",
   "nbconvert_exporter": "python",
   "pygments_lexer": "ipython3",
   "version": "3.12.0"
  }
 },
 "nbformat": 4,
 "nbformat_minor": 2
}
