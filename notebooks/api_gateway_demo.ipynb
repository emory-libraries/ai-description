{
 "cells": [
  {
   "cell_type": "markdown",
   "metadata": {},
   "source": [
    "# API Gateway Demo"
   ]
  },
  {
   "cell_type": "code",
   "execution_count": null,
   "metadata": {},
   "outputs": [],
   "source": [
    "import os\n",
    "from dotenv import load_dotenv\n",
    "\n",
    "from data_prep import populate_bucket\n",
    "from client_utils import (\n",
    "    get_job_progress,\n",
    "    get_job_results,\n",
    "    get_overall_progress,\n",
    "    update_job_results,\n",
    "    submit_job,\n",
    ")\n",
    "\n",
    "load_dotenv()\n",
    "api_key = os.environ[\"API_KEY\"]\n",
    "api_url = os.environ[\"API_URL\"]\n",
    "uploads_bucket = os.environ[\"UPLOADS_BUCKET\"]"
   ]
  },
  {
   "cell_type": "markdown",
   "metadata": {},
   "source": [
    "## Populate bucket"
   ]
  },
  {
   "cell_type": "code",
   "execution_count": null,
   "metadata": {},
   "outputs": [],
   "source": [
    "normal_image_s3_uri, normal_metadata_s3_uri, normal_context_s3_uri = populate_bucket(\n",
    "    bucket_name=uploads_bucket,\n",
    "    image_fpath=\"../tests/data/normal_image.png\",\n",
    "    context=\"N/A\",\n",
    "    metadata=\"Title: Normal image\",\n",
    ")\n",
    "offensive_image_s3_uri, offensive_metadata_s3_uri, offensive_context_s3_uri = populate_bucket(\n",
    "    bucket_name=uploads_bucket,\n",
    "    image_fpath=\"../tests/data/offensive_image.jpg\",\n",
    "    context=\"N/A\",\n",
    "    metadata=\"Title: Performers painted to look like negros\",\n",
    ")"
   ]
  },
  {
   "cell_type": "markdown",
   "metadata": {},
   "source": [
    "## Create bias job"
   ]
  },
  {
   "cell_type": "code",
   "execution_count": null,
   "metadata": {},
   "outputs": [],
   "source": [
    "bias_job_name = \"demo_bias_job_7\"\n",
    "bias_job_objects = [\n",
    "    {\n",
    "        \"work_id\": \"001_normal\",\n",
    "        \"image_s3_uris\": [normal_image_s3_uri, offensive_image_s3_uri],\n",
    "        \"context_s3_uri\": offensive_context_s3_uri,\n",
    "        \"original_metadata_s3_uri\": offensive_metadata_s3_uri,\n",
    "    },\n",
    "    {\n",
    "        \"work_id\": \"002_normal\",\n",
    "        \"image_s3_uris\": [normal_image_s3_uri],\n",
    "    },\n",
    "    {\n",
    "        \"work_id\": \"003_normal\",\n",
    "        \"image_s3_uris\": [offensive_image_s3_uri],\n",
    "    },\n",
    "]\n",
    "\n",
    "submit_job(\n",
    "    api_url=api_url,\n",
    "    job_name=bias_job_name,\n",
    "    job_type=\"bias\",\n",
    "    works=bias_job_objects,\n",
    "    api_key=api_key,\n",
    ")"
   ]
  },
  {
   "cell_type": "markdown",
   "metadata": {},
   "source": [
    "## Check Bias Job Progress"
   ]
  },
  {
   "cell_type": "code",
   "execution_count": null,
   "metadata": {},
   "outputs": [],
   "source": [
    "bias_progress = get_job_progress(\n",
    "    api_url=api_url,\n",
    "    job_name=bias_job_name,\n",
    "    api_key=api_key,\n",
    ")\n",
    "for key, val in bias_progress.items():\n",
    "    print(f\"{key}: {val}\")"
   ]
  },
  {
   "cell_type": "markdown",
   "metadata": {},
   "source": [
    "## Get Bias Job Results"
   ]
  },
  {
   "cell_type": "code",
   "execution_count": null,
   "metadata": {},
   "outputs": [],
   "source": [
    "item = get_job_results(\n",
    "    api_url=api_url,\n",
    "    job_name=bias_job_name,\n",
    "    work_id=bias_progress[\"job_progress\"][\"READY FOR REVIEW\"][0],\n",
    "    api_key=api_key,\n",
    ")\n",
    "for key, val in item.items():\n",
    "    print(f\"{key}: {val}\")\n",
    "    print()\n",
    "\n",
    "item = get_job_results(\n",
    "    api_url=api_url,\n",
    "    job_name=bias_job_name,\n",
    "    work_id=bias_progress[\"job_progress\"][\"READY FOR REVIEW\"][1],\n",
    "    api_key=api_key,\n",
    ")\n",
    "for key, val in item.items():\n",
    "    print(f\"{key}: {val}\")\n",
    "    print()"
   ]
  },
  {
   "cell_type": "markdown",
   "metadata": {},
   "source": [
    "## Create metadata job"
   ]
  },
  {
   "cell_type": "code",
   "execution_count": null,
   "metadata": {},
   "outputs": [],
   "source": [
    "metadata_job_name = \"demo_metadata_job_4\"\n",
    "metadata_job_objects = [\n",
    "    {\n",
    "        \"work_id\": \"001_normal\",\n",
    "        \"image_s3_uris\": [normal_image_s3_uri, offensive_image_s3_uri],\n",
    "        \"context_s3_uri\": offensive_image_s3_uri,\n",
    "        \"original_metadata_s3_uri\": offensive_image_s3_uri,\n",
    "    },\n",
    "    {\n",
    "        \"work_id\": \"002_broken\",\n",
    "        \"image_s3_uris\": [\"broken_uri\"],\n",
    "    },\n",
    "]\n",
    "submit_job(\n",
    "    api_url=api_url,\n",
    "    job_name=metadata_job_name,\n",
    "    job_type=\"metadata\",\n",
    "    works=metadata_job_objects,\n",
    "    api_key=api_key,\n",
    ")"
   ]
  },
  {
   "cell_type": "markdown",
   "metadata": {},
   "source": [
    "## Check metadata job progress"
   ]
  },
  {
   "cell_type": "code",
   "execution_count": null,
   "metadata": {},
   "outputs": [],
   "source": [
    "metadata_progress = get_job_progress(\n",
    "    api_url=api_url,\n",
    "    job_name=metadata_job_name,\n",
    "    api_key=api_key,\n",
    ")\n",
    "for key, val in metadata_progress.items():\n",
    "    print(f\"{key}: {val}\")"
   ]
  },
  {
   "cell_type": "markdown",
   "metadata": {},
   "source": [
    "## Get metadata job results"
   ]
  },
  {
   "cell_type": "code",
   "execution_count": null,
   "metadata": {},
   "outputs": [],
   "source": [
    "item = get_job_results(\n",
    "    api_url=api_url,\n",
    "    job_name=metadata_job_name,\n",
    "    work_id=metadata_progress[\"job_progress\"][\"READY FOR REVIEW\"][0],\n",
    "    api_key=api_key,\n",
    ")\n",
    "for key, val in item.items():\n",
    "    print(f\"{key}: {val}\")\n",
    "    print()"
   ]
  },
  {
   "cell_type": "markdown",
   "metadata": {},
   "source": [
    "## Get overall progress"
   ]
  },
  {
   "cell_type": "code",
   "execution_count": null,
   "metadata": {},
   "outputs": [],
   "source": [
    "overall_progress = get_overall_progress(api_url=api_url, api_key=api_key)\n",
    "for key, val in overall_progress.items():\n",
    "    print(f\"{key}: {val}\")"
   ]
  },
  {
   "cell_type": "markdown",
   "metadata": {},
   "source": [
    "## Update Job Results"
   ]
  },
  {
   "cell_type": "code",
   "execution_count": null,
   "metadata": {},
   "outputs": [],
   "source": [
    "update_job_results(\n",
    "    api_url=api_url,\n",
    "    job_name=bias_job_name,\n",
    "    work_id=bias_progress[\"READY FOR REVIEW\"][0],\n",
    "    api_key=api_key,\n",
    ")"
   ]
  }
 ],
 "metadata": {
  "kernelspec": {
   "display_name": "jupyter.venv",
   "language": "python",
   "name": "python3"
  },
  "language_info": {
   "codemirror_mode": {
    "name": "ipython",
    "version": 3
   },
   "file_extension": ".py",
   "mimetype": "text/x-python",
   "name": "python",
   "nbconvert_exporter": "python",
   "pygments_lexer": "ipython3",
   "version": "3.12.0"
  }
 },
 "nbformat": 4,
 "nbformat_minor": 2
}
