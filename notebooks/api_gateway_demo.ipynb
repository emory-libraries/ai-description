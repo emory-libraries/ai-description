{
 "cells": [
  {
   "cell_type": "markdown",
   "metadata": {},
   "source": [
    "# API Gateway Demo"
   ]
  },
  {
   "cell_type": "code",
   "execution_count": 1,
   "metadata": {},
   "outputs": [],
   "source": [
    "import logging\n",
    "\n",
    "logger = logging.getLogger()\n",
    "logger.setLevel(logging.INFO)\n",
    "\n",
    "from client_utils import (\n",
    "    populate_bucket,\n",
    "    get_session_token,\n",
    "    get_job_progress,\n",
    "    get_job_results,\n",
    "    get_overall_progress,\n",
    "    update_job_results,\n",
    "    create_dummy_job,\n",
    ")\n",
    "\n",
    "uploads_bucket_name = \"ai-description-dev-nt-isngd-2-381491992967-uploads\"\n",
    "cloudfront_distribution = \"d26h7qm115huol.cloudfront.net\"\n",
    "api_url = f\"https://{cloudfront_distribution}/api/\"\n",
    "# api_url = \"https://j6l483khva.execute-api.us-east-1.amazonaws.com/dev/\"\n",
    "job_name = \"job_001\"\n",
    "bias_job_name = f\"{job_name}_bias\"\n",
    "metadata_job_name = f\"{job_name}_metadata\""
   ]
  },
  {
   "cell_type": "markdown",
   "metadata": {},
   "source": [
    "## Populate bucket"
   ]
  },
  {
   "cell_type": "code",
   "execution_count": 4,
   "metadata": {},
   "outputs": [],
   "source": [
    "normal_image_s3_uri, normal_original_metadata_s3_uri, normal_context_s3_uri = populate_bucket(\n",
    "    bucket_name=uploads_bucket_name,\n",
    "    image_fpath=\"../tests/data/image.png\",\n",
    ")\n",
    "offensive_image_s3_uri, offensive_original_metadata_s3_uri, offensive_context_s3_uri = populate_bucket(\n",
    "    bucket_name=uploads_bucket_name,\n",
    "    image_fpath=\"../tests/data/offensive_image.jpg\",\n",
    ")"
   ]
  },
  {
   "cell_type": "markdown",
   "metadata": {},
   "source": [
    "## Get session token"
   ]
  },
  {
   "cell_type": "code",
   "execution_count": 7,
   "metadata": {},
   "outputs": [
    {
     "name": "stderr",
     "output_type": "stream",
     "text": [
      "INFO:root:API Response: {'sessionToken': 'guest.65c16fb5e1c7e6c22479e99715cd51f7.1741368044.18753632dff6716f7cf1cfe29684d811571dbaf826d9a7f6e7fb06052afa580b', 'tokenType': 'Bearer'}\n"
     ]
    }
   ],
   "source": [
    "session_token = get_session_token(\n",
    "    api_url=api_url,\n",
    "    username=\"guest\",\n",
    "    password=\"password\",\n",
    ")"
   ]
  },
  {
   "cell_type": "code",
   "execution_count": 5,
   "metadata": {},
   "outputs": [
    {
     "name": "stderr",
     "output_type": "stream",
     "text": [
      "INFO:root:API Response: {'job_creation': 'Success', 'ecs_task_creation': 'New ECS task arn:aws:ecs:us-east-1:381491992967:task/ai-description-dev-nt-isngd-2-cluster/f5ffc0b6614046c0b37d72cf7453585d started successfully'}\n",
      "INFO:root:API Response: {'job_creation': 'Success', 'ecs_task_creation': 'A task is already running. No new task will be started.'}\n"
     ]
    }
   ],
   "source": [
    "create_dummy_job(\n",
    "    api_url=api_url,\n",
    "    job_name=bias_job_name,\n",
    "    job_type=\"bias\",\n",
    "    original_metadata_s3_uri=normal_original_metadata_s3_uri,\n",
    "    context_s3_uri=normal_context_s3_uri,\n",
    "    normal_image_s3_uri=normal_image_s3_uri,\n",
    "    offensive_image_s3_uri=offensive_image_s3_uri,\n",
    "    session_token=session_token,\n",
    ")\n",
    "\n",
    "create_dummy_job(\n",
    "    api_url=api_url,\n",
    "    job_name=metadata_job_name,\n",
    "    job_type=\"metadata\",\n",
    "    original_metadata_s3_uri=normal_original_metadata_s3_uri,\n",
    "    context_s3_uri=normal_context_s3_uri,\n",
    "    normal_image_s3_uri=normal_image_s3_uri,\n",
    "    offensive_image_s3_uri=offensive_image_s3_uri,\n",
    "    session_token=session_token,\n",
    ")"
   ]
  },
  {
   "cell_type": "markdown",
   "metadata": {},
   "source": [
    "## Check Job Progress"
   ]
  },
  {
   "cell_type": "code",
   "execution_count": 8,
   "metadata": {},
   "outputs": [
    {
     "name": "stderr",
     "output_type": "stream",
     "text": [
      "INFO:root:API Response: {'job_progress': {'READY FOR REVIEW': ['job_001_bias_long_work', 'job_001_bias_short_work']}, 'job_type': 'bias'}\n",
      "INFO:root:API Response: {'job_progress': {'FAILED TO PROCESS': ['job_001_metadata_long_work'], 'READY FOR REVIEW': ['job_001_metadata_short_work']}, 'job_type': 'metadata'}\n"
     ]
    },
    {
     "name": "stdout",
     "output_type": "stream",
     "text": [
      "job_progress: {'READY FOR REVIEW': ['job_001_bias_long_work', 'job_001_bias_short_work']}\n",
      "job_type: bias\n",
      "job_progress: {'FAILED TO PROCESS': ['job_001_metadata_long_work'], 'READY FOR REVIEW': ['job_001_metadata_short_work']}\n",
      "job_type: metadata\n"
     ]
    }
   ],
   "source": [
    "bias_progress = get_job_progress(\n",
    "    api_url=api_url,\n",
    "    job_name=bias_job_name,\n",
    "    session_token=session_token,\n",
    ")\n",
    "for key, val in bias_progress.items():\n",
    "    print(f\"{key}: {val}\")\n",
    "\n",
    "metadata_progress = get_job_progress(\n",
    "    api_url=api_url,\n",
    "    job_name=metadata_job_name,\n",
    "    session_token=session_token,\n",
    ")\n",
    "for key, val in metadata_progress.items():\n",
    "    print(f\"{key}: {val}\")"
   ]
  },
  {
   "cell_type": "markdown",
   "metadata": {},
   "source": [
    "## Get overall progress"
   ]
  },
  {
   "cell_type": "code",
   "execution_count": 33,
   "metadata": {},
   "outputs": [
    {
     "name": "stderr",
     "output_type": "stream",
     "text": [
      "INFO:root:API Response: {'ecs_status': 'Inactive', 'queue_length': 0}\n"
     ]
    },
    {
     "name": "stdout",
     "output_type": "stream",
     "text": [
      "ecs_status: Inactive\n",
      "queue_length: 0\n"
     ]
    }
   ],
   "source": [
    "overall_progress = get_overall_progress(\n",
    "    api_url=api_url,\n",
    "    session_token=session_token,\n",
    ")\n",
    "for key, val in overall_progress.items():\n",
    "    print(f\"{key}: {val}\")"
   ]
  },
  {
   "cell_type": "markdown",
   "metadata": {},
   "source": [
    "## Get Job Results"
   ]
  },
  {
   "cell_type": "code",
   "execution_count": null,
   "metadata": {},
   "outputs": [],
   "source": [
    "item = get_job_results(\n",
    "    api_url=api_url,\n",
    "    job_name=bias_job_name,\n",
    "    work_id=bias_progress[\"job_progress\"][\"READY FOR REVIEW\"][0],\n",
    "    session_token=session_token,\n",
    ")\n",
    "for key, val in item.items():\n",
    "    print(f\"{key}: {val}\")\n",
    "    print()\n",
    "\n",
    "item = get_job_results(\n",
    "    api_url=api_url,\n",
    "    job_name=bias_job_name,\n",
    "    work_id=bias_progress[\"job_progress\"][\"READY FOR REVIEW\"][1],\n",
    "    session_token=session_token,\n",
    ")\n",
    "for key, val in item.items():\n",
    "    print(f\"{key}: {val}\")\n",
    "    print()\n",
    "\n",
    "item = get_job_results(\n",
    "    api_url=api_url,\n",
    "    job_name=metadata_job_name,\n",
    "    work_id=metadata_progress[\"job_progress\"][\"READY FOR REVIEW\"][0],\n",
    "    session_token=session_token,\n",
    ")\n",
    "for key, val in item.items():\n",
    "    print(f\"{key}: {val}\")\n",
    "    print()\n",
    "\n",
    "item = get_job_results(\n",
    "    api_url=api_url,\n",
    "    job_name=metadata_job_name,\n",
    "    work_id=metadata_progress[\"job_progress\"][\"READY FOR REVIEW\"][1],\n",
    "    session_token=session_token,\n",
    ")\n",
    "for key, val in item.items():\n",
    "    print(f\"{key}: {val}\")"
   ]
  },
  {
   "cell_type": "markdown",
   "metadata": {},
   "source": [
    "## Update Job Results"
   ]
  },
  {
   "cell_type": "code",
   "execution_count": null,
   "metadata": {},
   "outputs": [],
   "source": [
    "update_job_results(\n",
    "    api_url=api_url,\n",
    "    job_name=job_name,\n",
    "    work_id=bias_progress[\"READY_FOR_REVIEW\"][0],\n",
    "    session_token=session_token,\n",
    ")"
   ]
  }
 ],
 "metadata": {
  "kernelspec": {
   "display_name": "jupyter.venv",
   "language": "python",
   "name": "python3"
  },
  "language_info": {
   "codemirror_mode": {
    "name": "ipython",
    "version": 3
   },
   "file_extension": ".py",
   "mimetype": "text/x-python",
   "name": "python",
   "nbconvert_exporter": "python",
   "pygments_lexer": "ipython3",
   "version": "3.12.0"
  }
 },
 "nbformat": 4,
 "nbformat_minor": 2
}
