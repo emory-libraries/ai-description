{
 "cells": [
  {
   "cell_type": "code",
   "execution_count": null,
   "metadata": {},
   "outputs": [],
   "source": [
    "# INSTALLS THAT NEED TO BE RUN ON CONDA\n",
    "# !pip install loguru"
   ]
  },
  {
   "cell_type": "code",
   "execution_count": null,
   "metadata": {},
   "outputs": [],
   "source": [
    "import json\n",
    "import boto3\n",
    "import base64\n",
    "import re\n",
    "import os\n",
    "from PIL import Image\n",
    "from pathlib import Path\n",
    "import glob\n",
    "import time\n",
    "from importlib import reload\n",
    "import pandas as pd\n",
    "from IPython.display import display\n",
    "from io import BytesIO\n",
    "from botocore.config import Config\n",
    "import logging\n",
    "\n",
    "logging.basicConfig(level=logging.INFO, force=True)  # Resets handlers\n",
    "\n",
    "%load_ext autoreload\n",
    "%autoreload 2\n",
    "\n",
    "pd.set_option(\"display.max_colwidth\", None)\n",
    "pd.set_option(\"display.max_rows\", None)\n",
    "pd.set_option(\"display.max_columns\", None)\n",
    "\n",
    "# os.chdir('..')\n",
    "print(\"CWD:\", os.getcwd())\n",
    "bedrock_runtime = boto3.client(\"bedrock-runtime\")\n",
    "s3 = boto3.client(\"s3\")"
   ]
  },
  {
   "cell_type": "code",
   "execution_count": null,
   "metadata": {},
   "outputs": [],
   "source": [
    "# Import libary specific items.  chdir to the right import directory and then finally change back whether or not there are errors\n",
    "try:\n",
    "    os.chdir(\"../../lib/src\")\n",
    "    import image_captioning_assistant.generate.prompts as p\n",
    "    import image_captioning_assistant.data.data_classes as dc\n",
    "\n",
    "    import image_captioning_assistant.generate.generate_structured_metadata as gsm\n",
    "    import image_captioning_assistant.generate.utils as gen_utils\n",
    "\n",
    "    # import image_captioning_assistant.data.data_classes as dc\n",
    "    import image_captioning_assistant.aws.s3 as s3_util\n",
    "finally:\n",
    "    os.chdir(\"../../projects/research\")"
   ]
  },
  {
   "cell_type": "code",
   "execution_count": null,
   "metadata": {},
   "outputs": [],
   "source": [
    "# Helper functions for notebook\n",
    "def show_base64_image(encoded_str):\n",
    "    # Add padding if missing\n",
    "    missing_padding = len(encoded_str) % 4\n",
    "    if missing_padding:\n",
    "        encoded_str += \"=\" * (4 - missing_padding)\n",
    "\n",
    "    # Decode and display\n",
    "    image_data = base64.b64decode(encoded_str)\n",
    "    image = Image.open(BytesIO(image_data))\n",
    "    display(image)\n",
    "\n",
    "    \n",
    "def download_s3_directory(bucket, s3_prefix, local_dir):\n",
    "    s3 = boto3.client(\"s3\")\n",
    "    paginator = s3.get_paginator(\"list_objects_v2\")\n",
    "\n",
    "    for page in paginator.paginate(Bucket=bucket, Prefix=s3_prefix):\n",
    "        for obj in page.get(\"Contents\", []):\n",
    "            # Skip directory markers\n",
    "            if obj[\"Key\"].endswith(\"/\"):\n",
    "                continue\n",
    "\n",
    "            # Build local path\n",
    "            relative_path = obj[\"Key\"].replace(s3_prefix, \"\", 1)\n",
    "            local_path = local_dir / relative_path\n",
    "\n",
    "            # Create parent directories and download\n",
    "            local_path.parent.mkdir(parents=True, exist_ok=True)\n",
    "            s3.download_file(bucket, obj[\"Key\"], str(local_path))\n",
    "\n",
    "\n",
    "def display_work_id_images(work_id):\n",
    "    \"\"\"\n",
    "    Display images for a work ID from S3, without saving to disk.\n",
    "    \"\"\"\n",
    "    # Get SHA1s for the work_id\n",
    "    shas = ground_truth_df[ground_truth_df[\"work_id\"] == work_id][\"page_sha1\"]\n",
    "    \n",
    "    # Create S3 URIs\n",
    "    image_s3_uris = [f\"s3://{bucket_name}/ground_truth_images/{sha}\" for sha in shas]\n",
    "    \n",
    "    # Load all images with no resizing\n",
    "    image_bytes_list = gen_utils.load_and_resize_images(\n",
    "        image_s3_uris=image_s3_uris,\n",
    "        s3_kwargs={},\n",
    "        resize_kwargs={}  # No resizing as requested\n",
    "    )\n",
    "    \n",
    "    # Display the images\n",
    "    from io import BytesIO\n",
    "    \n",
    "    for img_bytes in image_bytes_list:\n",
    "        if img_bytes is not None:\n",
    "            img = Image.open(BytesIO(img_bytes))\n",
    "            display(img)\n",
    "        else:\n",
    "            print(\"Failed to load image\")\n",
    "\n",
    "\n",
    "def print_output(output):\n",
    "    if \"description\" in output:\n",
    "        s = pd.Series(output)\n",
    "        display(pd.DataFrame({\"Metadata Item\": s.index, \"Output from AI Model\": s.values}))\n",
    "    else:\n",
    "        bias_list = output[\"bias_analysis\"]\n",
    "        # Convert to DataFrame with multi-index\n",
    "        multi_index_data = []\n",
    "        for i, bias_dict in enumerate(bias_list):\n",
    "            for key, value in bias_dict.items():\n",
    "                multi_index_data.append(((i + 1, key), value))\n",
    "\n",
    "        # Create DataFrame\n",
    "        multi_index = pd.MultiIndex.from_tuples([item[0] for item in multi_index_data], names=[\"Bias ID\", \"Bias Item\"])\n",
    "        df = pd.DataFrame(\n",
    "            {\"Output from AI Model\": [item[1] for item in multi_index_data]},\n",
    "            index=multi_index,\n",
    "        )\n",
    "        display(df)\n",
    "\n",
    "def gen_metadata_for_wid(work_id, page_title, model_id=\"us.anthropic.claude-3-5-sonnet-20241022-v2:0\"):\n",
    "    image_path = \"ground_truth/images\"\n",
    "    shas = ground_truth_df[ground_truth_df[\"work_id\"] == work_id][[\"page_sha1\", \"page_title\"]]\n",
    "    image_s3_uris = []\n",
    "    if page_title.lower() == \"front\" and len(shas) > 1:\n",
    "        front_sha = shas[shas[\"page_title\"].str.lower() == \"front\"][\"page_sha1\"].values[0]\n",
    "        image_s3_uris.append(f\"s3://gaiic-emory-dev/ground_truth_images/{front_sha}\")\n",
    "        back_sha = shas[shas[\"page_title\"].str.lower() == \"back\"][\"page_sha1\"].values[0]\n",
    "        image_s3_uris.append(f\"s3://gaiic-emory-dev/ground_truth_images/{back_sha}\")\n",
    "    else:\n",
    "        front_sha = shas[shas[\"page_title\"] == page_title][\"page_sha1\"].values[0]\n",
    "        image_s3_uris.append(f\"s3://gaiic-emory-dev/ground_truth_images/{front_sha}\")\n",
    "        back_sha = None\n",
    "\n",
    "    s3_kwargs = {\n",
    "        \"config\": Config(\n",
    "            s3={\"addressing_style\": \"virtual\"},\n",
    "            signature_version=\"s3v4\",\n",
    "        ),\n",
    "        \"region_name\": \"us-east-1\",\n",
    "    }\n",
    "\n",
    "    llm_kwargs = {\n",
    "        \"model_id\": model_id,\n",
    "    }\n",
    "    results = gsm.generate_work_structured_metadata(\n",
    "        image_s3_uris=image_s3_uris,\n",
    "        llm_kwargs=llm_kwargs,\n",
    "        s3_kwargs=s3_kwargs,\n",
    "        resize_kwargs={},\n",
    "    )\n",
    "    return results"
   ]
  },
  {
   "cell_type": "code",
   "execution_count": null,
   "metadata": {},
   "outputs": [],
   "source": [
    "# download ground truth set to local\n",
    "# Configuration\n",
    "bucket_name = \"gaiic-emory-dev\"\n",
    "local_base = Path(\"ground_truth\")\n",
    "\n",
    "# Download single CSV file\n",
    "csv_path = local_base / \"ground_truth.csv\"\n",
    "csv_path.parent.mkdir(parents=True, exist_ok=True)\n",
    "boto3.client(\"s3\").download_file(bucket_name, \"ground_truth.csv\", str(csv_path))\n",
    "ground_truth_df = pd.read_csv(\"ground_truth/ground_truth.csv\")\n",
    "# Download entire images directory - optional, takes a while\n",
    "# download_s3_directory(\n",
    "#     bucket=bucket_name,\n",
    "#     s3_prefix='ground_truth_images/',\n",
    "#     local_dir=local_base / 'images'\n",
    "# )"
   ]
  },
  {
   "cell_type": "code",
   "execution_count": null,
   "metadata": {},
   "outputs": [],
   "source": [
    "# Visualize a work ID\n",
    "display_work_id_images('880ht76hj7-cor')"
   ]
  },
  {
   "cell_type": "code",
   "execution_count": null,
   "metadata": {},
   "outputs": [],
   "source": [
    "# OPTIONAL for diagnostics, dump out the metadata model schema\n",
    "# formatted_schema = json.dumps(dc.Metadata.model_json_schema(), indent=4, ensure_ascii=True)\n",
    "# print(formatted_schema)"
   ]
  },
  {
   "cell_type": "code",
   "execution_count": null,
   "metadata": {},
   "outputs": [],
   "source": [
    "reload(p)\n",
    "results = gen_metadata_for_wid('880ht76hj7-cor', 'Front') # cotton in sunny south 689d51c5f7-cor\n",
    "# results = gen_metadata_for_wid(\"989r2280h5-cor\", \"Front\")  # Hatian mother with offspring\n",
    "# results = gen_metadata_for_wid(\"689d51c5f7-cor\", \"Front\")  # AA boy pointing at possum in tree\n",
    "# results = gen_metadata_for_wid('24298sf7s0-cor', \"Front\")  # Burning of AA man\n",
    "print_output(results.model_dump())"
   ]
  },
  {
   "cell_type": "code",
   "execution_count": null,
   "metadata": {},
   "outputs": [],
   "source": [
    "reload(p)\n",
    "results = gen_metadata_for_wid('880ht76hj7-cor', 'Front', model_id=\"amazon.nova-pro-v1:0\") # cotton in sunny south 689d51c5f7-cor\n",
    "# results = gen_metadata_for_wid(\"989r2280h5-cor\", \"Front\")  # Hatian mother with offspring\n",
    "# results = gen_metadata_for_wid(\"689d51c5f7-cor\", \"Front\")  # AA boy pointing at possum in tree\n",
    "# results = gen_metadata_for_wid('24298sf7s0-cor', \"Front\")  # Burning of AA man\n",
    "print_output(results.model_dump())"
   ]
  },
  {
   "cell_type": "code",
   "execution_count": null,
   "metadata": {},
   "outputs": [],
   "source": [
    "reload(p)\n",
    "# results = gen_metadata_for_wid('880ht76hj7-cor', 'Front') # cotton in sunny south 689d51c5f7-cor\n",
    "results = gen_metadata_for_wid(\"989r2280h5-cor\", \"Front\")  # Hatian mother with offspring\n",
    "# results = gen_metadata_for_wid(\"689d51c5f7-cor\", \"Front\")  # AA boy pointing at possum in tree\n",
    "# results = gen_metadata_for_wid('24298sf7s0-cor', \"Front\")  # Burning of AA man\n",
    "print_output(results.model_dump())"
   ]
  },
  {
   "cell_type": "code",
   "execution_count": null,
   "metadata": {},
   "outputs": [],
   "source": [
    "reload(p)\n",
    "# results = gen_metadata_for_wid('880ht76hj7-cor', 'Front') # cotton in sunny south 689d51c5f7-cor\n",
    "# results = gen_metadata_for_wid(\"989r2280h5-cor\", \"Front\")  # Hatian mother with offspring\n",
    "results = gen_metadata_for_wid(\"689d51c5f7-cor\", \"Front\")  # AA boy pointing at possum in tree\n",
    "# results = gen_metadata_for_wid('24298sf7s0-cor', \"Front\")  # Burning of AA man\n",
    "print_output(results.model_dump())"
   ]
  },
  {
   "cell_type": "code",
   "execution_count": null,
   "metadata": {},
   "outputs": [],
   "source": []
  },
  {
   "cell_type": "code",
   "execution_count": null,
   "metadata": {},
   "outputs": [],
   "source": []
  },
  {
   "cell_type": "code",
   "execution_count": null,
   "metadata": {},
   "outputs": [],
   "source": []
  },
  {
   "cell_type": "code",
   "execution_count": null,
   "metadata": {},
   "outputs": [],
   "source": []
  },
  {
   "cell_type": "code",
   "execution_count": null,
   "metadata": {},
   "outputs": [],
   "source": []
  },
  {
   "cell_type": "code",
   "execution_count": null,
   "metadata": {},
   "outputs": [],
   "source": []
  },
  {
   "cell_type": "code",
   "execution_count": null,
   "metadata": {},
   "outputs": [],
   "source": []
  },
  {
   "cell_type": "code",
   "execution_count": null,
   "metadata": {},
   "outputs": [],
   "source": []
  },
  {
   "cell_type": "code",
   "execution_count": null,
   "metadata": {},
   "outputs": [],
   "source": []
  },
  {
   "cell_type": "code",
   "execution_count": null,
   "metadata": {},
   "outputs": [],
   "source": []
  },
  {
   "cell_type": "code",
   "execution_count": null,
   "metadata": {},
   "outputs": [],
   "source": []
  },
  {
   "cell_type": "markdown",
   "metadata": {},
   "source": [
    "# Run Evaluation -- NEEDS FIXING TO DEAL WITH DIFFERENCES BETWEEN GROUND TRUTH AND GENERATIONS"
   ]
  },
  {
   "cell_type": "code",
   "execution_count": null,
   "metadata": {},
   "outputs": [],
   "source": [
    "try:\n",
    "    os.chdir(\"../../lib/src\")\n",
    "    import image_captioning_assistant.evaluate.evaluate_bias_analysis as eba\n",
    "    import image_captioning_assistant.evaluate.evaluate_structured_metadata as esm\n",
    "    import image_captioning_assistant.evaluate.evaluate_freeform_description as efd\n",
    "    from image_captioning_assistant.data.constants import BiasLevel, BiasType, LibraryFormat\n",
    "finally:\n",
    "    os.chdir(\"../../projects/research\")"
   ]
  },
  {
   "cell_type": "markdown",
   "metadata": {},
   "source": [
    "### Metadata Eval"
   ]
  },
  {
   "cell_type": "code",
   "execution_count": null,
   "metadata": {},
   "outputs": [],
   "source": [
    "ground_truth_df.head(1).tail(1).transpose()"
   ]
  },
  {
   "cell_type": "code",
   "execution_count": null,
   "metadata": {},
   "outputs": [],
   "source": [
    "metadata_items = \"\"\"\n",
    "title\n",
    "abstract\n",
    "content_genres\n",
    "content_type\n",
    "date_created\n",
    "subject_geo\n",
    "subject_names\n",
    "subject_topics\n",
    "\"\"\".strip().split(\n",
    "    \"\\n\"\n",
    ")\n",
    "ground_truth_df.head(17).tail(1)[[\"work_id\"] + metadata_items].transpose()"
   ]
  },
  {
   "cell_type": "code",
   "execution_count": null,
   "metadata": {},
   "outputs": [],
   "source": [
    "def gt_row_to_metadata_obj(gt_row):\n",
    "    gt_content_type_mapping = {\n",
    "        \"http://id.loc.gov/vocabulary/resourceTypes/img\": LibraryFormat.still_image,\n",
    "        \"http://id.loc.gov/vocabulary/resourceTypes/txt\": LibraryFormat.text,\n",
    "    }\n",
    "    cleaned_abstract = (\n",
    "        gt_row[\"abstract\"].replace(\"Verso:\", \"\").replace(\"Recto:\", \"\")\n",
    "        if gt_row[\"abstract\"] == gt_row[\"abstract\"]\n",
    "        else \"\"\n",
    "    )\n",
    "    topics = []\n",
    "    for col in [\"subject_topics\"]:\n",
    "        if gt_row[col]:\n",
    "            topics.extend(str(gt_row[col]).split(\"|\"))\n",
    "    return dc.Metadata(\n",
    "        description=gt_row[\"title\"],\n",
    "        transcription=dc.Transcription(printed_text=[cleaned_abstract], handwriting=[]),\n",
    "        date=str(gt_row[\"date_created\"]),\n",
    "        location=str(gt_row[\"subject_geo\"]),\n",
    "        publication_info=[],\n",
    "        contextual_info=[],\n",
    "        format=gt_content_type_mapping[gt_row[\"content_type\"]],\n",
    "        genre=[gt_row[\"content_genres\"]],\n",
    "        topics=topics,\n",
    "        objects=[],\n",
    "        actions=[],\n",
    "        people=[],\n",
    "    )\n",
    "\n",
    "\n",
    "gt_row_to_metadata_obj(ground_truth_df.iloc[16, :])"
   ]
  },
  {
   "cell_type": "code",
   "execution_count": null,
   "metadata": {},
   "outputs": [],
   "source": [
    "import aiohttp\n",
    "import asyncio\n",
    "import nest_asyncio\n",
    "\n",
    "nest_asyncio.apply()\n",
    "\n",
    "\n",
    "def get_human_and_llm_metadata(gt_row):\n",
    "    human_metadata = gt_row_to_metadata_obj(gt_row)\n",
    "    llm_metadata = gen_metadata_for_wid(gt_row[\"work_id\"], gt_row[\"page_title\"])\n",
    "    return human_metadata, llm_metadata\n",
    "\n",
    "\n",
    "def run_gt_metadata_eval(gt_row):\n",
    "    human_metadata, llm_metadata = get_human_and_llm_metadata(gt_row)\n",
    "    chat_bedrock_kwargs = {\"model\": \"us.anthropic.claude-3-5-sonnet-20241022-v2:0\"}\n",
    "    # Call eval function\n",
    "    return esm.evaluate_structured_metadata(llm_metadata, human_metadata, chat_bedrock_kwargs)"
   ]
  },
  {
   "cell_type": "code",
   "execution_count": null,
   "metadata": {
    "scrolled": true
   },
   "outputs": [],
   "source": [
    "# run eval for only items with front and back because others are pages which are bias only\n",
    "from tqdm import tqdm_notebook\n",
    "\n",
    "eval_results = {}\n",
    "gt_dedup = ground_truth_df[ground_truth_df[\"page_title\"].str.lower() == \"front\"].copy(deep=True).fillna(\"\")\n",
    "for i, gt_row in tqdm_notebook(gt_dedup.iterrows(), total=len(gt_dedup)):\n",
    "    if i not in eval_results:\n",
    "        eval_results[i] = run_gt_metadata_eval(gt_row)"
   ]
  },
  {
   "cell_type": "code",
   "execution_count": null,
   "metadata": {},
   "outputs": [],
   "source": [
    "eval_results[i]"
   ]
  },
  {
   "cell_type": "code",
   "execution_count": null,
   "metadata": {},
   "outputs": [],
   "source": [
    "eval_results[i]"
   ]
  },
  {
   "cell_type": "code",
   "execution_count": null,
   "metadata": {},
   "outputs": [],
   "source": [
    "reload(esm)\n",
    "esm.combine_structured_metadata_evaluations(list(eval_results.values())).model_dump()"
   ]
  },
  {
   "cell_type": "code",
   "execution_count": null,
   "metadata": {},
   "outputs": [],
   "source": [
    "shas = ground_truth_df[ground_truth_df[\"work_id\"] == gt_row[\"work_id\"]][[\"page_sha1\", \"page_title\"]]\n",
    "shas"
   ]
  },
  {
   "cell_type": "code",
   "execution_count": null,
   "metadata": {},
   "outputs": [],
   "source": [
    "ground_truth_df[ground_truth_df[\"work_id\"].str.strip() == gt_row[\"work_id\"]][[\"page_sha1\", \"page_title\"]]"
   ]
  },
  {
   "cell_type": "code",
   "execution_count": null,
   "metadata": {},
   "outputs": [],
   "source": [
    "results = gen_metadata_for_wid(\"423612jmc0-cor\")\n",
    "# print(results.cot)\n",
    "print_output(results.model_dump())"
   ]
  },
  {
   "cell_type": "code",
   "execution_count": null,
   "metadata": {},
   "outputs": [],
   "source": [
    "reload(esm)\n",
    "# LLM-generated example\n",
    "llm_metadata_different = dc.MetadataCOT(\n",
    "    description=\"A digitized manuscript showing agricultural practices from early modern Europe\",\n",
    "    transcription=dc.Transcription(\n",
    "        printed_text=[\"Treatise on Farming Methods\", \"Printed in Venice 1592\"],\n",
    "        handwriting=[\"Marginal notes regarding crop rotation\", \"Ownership signature: G. Agricola\"],\n",
    "    ),\n",
    "    date=\"1590-1600\",\n",
    "    location=\"Northern Italy\",\n",
    "    publication_info=[\"Venetian Printing House\"],\n",
    "    contextual_info=[\"Demonstrates pre-Enlightenment farming techniques\"],\n",
    "    format=LibraryFormat.text,\n",
    "    genre=[\"Manuscript\", \"Agricultural\"],\n",
    "    objects=[\"Quill annotations\", \"Illustrations of plows\"],\n",
    "    actions=[\"Harvesting\", \"Irrigating fields\"],\n",
    "    people=[\"Male figures in peasant attire\"],\n",
    "    cot=\"Generated through analysis of visual patterns and textual correlations in historical documents\",\n",
    ")\n",
    "llm_metadata_similar = dc.MetadataCOT(\n",
    "    description=\"Colorized lithographic print showing Victorian-era metropolitan peddlers\",\n",
    "    transcription=dc.Transcription(\n",
    "        printed_text=[\"London Street Scenes\", \"Issued by Smith & Sons 1883\"],\n",
    "        handwriting=[\"Collection note: Uncommon version with azure coloring\", \"Previous owner: J. Smith\"],\n",
    "    ),\n",
    "    date=\"1883\",\n",
    "    location=\"London, England\",\n",
    "    publication_info=[\"Smith & Sons Publishers\"],\n",
    "    contextual_info=[\"Chronicles vanishing professions during the Industrial Revolution\"],\n",
    "    format=LibraryFormat.still_image,\n",
    "    genre=[\"Lithograph\", \"Social Documentation\"],\n",
    "    objects=[\"Vendor carts\", \"Coal containers\", \"Work garments\"],\n",
    "    actions=[\"Merchant trading\", \"Price negotiation\"],\n",
    "    people=[\"Market traders (both genders)\", \"Young workers\"],\n",
    "    cot=\"Documented through direct artifact examination and archival source verification\",\n",
    ")\n",
    "\n",
    "\n",
    "# Human-curated example\n",
    "human_metadata = dc.Metadata(\n",
    "    description=\"Hand-colored lithograph depicting 19th century urban street vendors\",\n",
    "    transcription=dc.Transcription(\n",
    "        printed_text=[\"Street Life of London\", \"Published by Smith & Sons 1883\"],\n",
    "        handwriting=[\"Curator's note: Rare variant with blue tint\", \"Ex collection: J. Smith\"],\n",
    "    ),\n",
    "    date=\"1883\",\n",
    "    location=\"London, England\",\n",
    "    publication_info=[\"Smith & Sons Publishers\"],\n",
    "    contextual_info=[\"Documents disappearing trades during industrialization\"],\n",
    "    format=LibraryFormat.still_image,\n",
    "    genre=[\"Lithograph\", \"Social History\"],\n",
    "    objects=[\"Push carts\", \"Coal buckets\", \"Aprons\"],\n",
    "    actions=[\"Selling goods\", \"Haggling prices\"],\n",
    "    people=[\"Street vendors (male and female)\", \"Child apprentices\"],\n",
    ")\n",
    "\n",
    "chat_bedrock_kwargs = {\"model\": \"us.anthropic.claude-3-5-sonnet-20241022-v2:0\"}\n",
    "\n",
    "# Call the function\n",
    "result_different = esm.evaluate_structured_metadata(llm_metadata_different, human_metadata, chat_bedrock_kwargs)\n",
    "result_similar = esm.evaluate_structured_metadata(llm_metadata_similar, human_metadata, chat_bedrock_kwargs)\n",
    "display(result_different)\n",
    "display(result_similar)"
   ]
  }
 ],
 "metadata": {
  "kernelspec": {
   "display_name": "conda_python3",
   "language": "python",
   "name": "conda_python3"
  },
  "language_info": {
   "codemirror_mode": {
    "name": "ipython",
    "version": 3
   },
   "file_extension": ".py",
   "mimetype": "text/x-python",
   "name": "python",
   "nbconvert_exporter": "python",
   "pygments_lexer": "ipython3",
   "version": "3.10.16"
  }
 },
 "nbformat": 4,
 "nbformat_minor": 4
}
